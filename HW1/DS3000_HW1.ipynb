{
 "cells": [
  {
   "cell_type": "markdown",
   "metadata": {
    "id": "wRzPuct8WGXB"
   },
   "source": [
    "# DS 3000 HW 1\n",
    "\n",
    "Due: Tuesday Sep 18 @ 11:59 PM EST\n",
    "\n",
    "### Submission Instructions\n",
    "Submit this `ipynb` file to Gradescope (this can also be done via the assignment on Canvas).  To ensure that your submitted `ipynb` file represents your latest code, make sure to give a fresh `Kernel > Restart & Run All` just before uploading the `ipynb` file to gradescope.\n",
    "\n",
    "### Tips for success\n",
    "- Start early\n",
    "- Make use of Piazza (also accessible through Canvas)\n",
    "- Make use of Office Hours\n",
    "- Remember to use cells and headings to make the notebook easy to read (if a grader cannot find the answer to a problem, you will receive no points for it)\n",
    "- Under no circumstances may one student view or share their ungraded homework or quiz with another student [(see also)](http://www.northeastern.edu/osccr/academic-integrity), though you are welcome to **talk about** (*not* show each other your answers to) the problems."
   ]
  },
  {
   "cell_type": "markdown",
   "metadata": {
    "id": "CLjrDQonWGXD"
   },
   "source": [
    "# Part 1 (25 points): Markdown in Jupyter\n",
    "\n",
    "Use the markdown language below to create your own brief wikipedia-esque description of any subject of interest.\n",
    "\n",
    "Your mini-wiki page must include:\n",
    "- three headers: a title, subtitle and subsubtitle (the #, ##, ### syntax)\n",
    "- an embedded image from a web address (use an [image hosting site](https://makeawebsitehub.com/free-photo-hosting/) if you'd like to upload your own)\n",
    "- a table of size at least 3 rows x 3 columns (needn't be correct, but must make sense)\n",
    "- a list\n",
    "- a link to another website\n",
    "\n",
    "Please be brief in your text.  Aim for roughly 3 sentences total of text.  We won't grade based on content, but keep it appropriate for class.  If you make the grader smile, no extra credit will be awarded beyond the satisfaction of having made somebody's day better :)"
   ]
  },
  {
   "cell_type": "markdown",
   "metadata": {
    "id": "bp1L77GjWGXD"
   },
   "source": [
    "# Latest Video Game Consoles\n",
    "\n",
    "## Playstation\n",
    "\n",
    "### Playstation 5\n",
    "\n",
    "![](https://s.yimg.com/uu/api/res/1.2/R8OF6NCmqERAOi08Cy.AZA--~B/aD0xMjAwO3c9MTgwMDthcHBpZD15dGFjaHlvbg--/https://media-mbst-pub-ue1.s3.amazonaws.com/creatr-uploaded-images/2020-11/1fa5a901-1fee-11eb-b6fd-ecc1bfdbf55f.cf.jpg)\n",
    "\n",
    "\n",
    "## Xbox\n",
    "\n",
    "### Series X\n",
    "\n",
    "![](https://s.yimg.com/uu/api/res/1.2/E_K..Xy7MNzfPaXrqCN5tg--~B/aD0xMjAwO3c9MTgwMDthcHBpZD15dGFjaHlvbg--/https://media-mbst-pub-ue1.s3.amazonaws.com/creatr-uploaded-images/2020-11/00ab1e70-1f19-11eb-bbfb-6d1c65d2b15f.cf.jpg)\n",
    "\n",
    "## Nintendo\n",
    "\n",
    "### Switch\n",
    "\n",
    "![](https://www.notebookcheck.net/fileadmin/Notebooks/News/_nc3/Nintendo_Switch_OLED_model.jpg)\n",
    "\n"
   ]
  },
  {
   "cell_type": "markdown",
   "metadata": {
    "id": "O_L3AYXfWGXD"
   },
   "source": [
    "| Playstation 5 | Series X | Swtich |\n",
    "| :---        |    :----:   |          ---: |\n",
    "| Made by Sony | Made by Microsoft| Made by Nintendo   |\n",
    "| Blue theme | Green theme| Red theme |"
   ]
  },
  {
   "cell_type": "markdown",
   "metadata": {
    "id": "FQxOv8cQWGXD"
   },
   "source": [
    "# List of links:\n",
    "\n",
    "- [Playstation 5](https://en.wikipedia.org/wiki/PlayStation_5)\n",
    "- [Xbox Series X](https://en.wikipedia.org/wiki/Xbox_Series_X_and_Series_S)\n",
    "- [Nintendo Switch](https://en.wikipedia.org/wiki/Nintendo_Switch)"
   ]
  },
  {
   "cell_type": "markdown",
   "metadata": {
    "id": "jFCzN_IYWGXD"
   },
   "source": [
    "# Part 2: Lists and Flow and Functions, Oh my!\n",
    "## Part 2.1: Manual Data Entry (20 points)\n",
    "\n",
    "**Beware**: to complete this part of the assignment, you *must* do it during a weekday when the stock market is open!\n",
    "\n",
    "How would you collect data on a stock's performance without a computer doing it automatically? Go to [this website](https://www.tradingview.com/) and look up a stock (any stock). You are going to write a function that takes live input of the stock's value (entered by you), saves all inputs in a list, stops once you enter 10 values **or** three consecutive decreasing values (whichever comes first), and returns the values.\n",
    "\n",
    "For this problem:\n",
    "\n",
    "- Call your function `my_stock`\n",
    "- Make sure that you use the `input()` option within your function to accept entries\n",
    "- Make sure you are saving all entries in a list\n",
    "- Use `if-else` and a `while` loop\n",
    "- When you have written the function, call:\n",
    "\n",
    "`manual_data_entry = my_stock()`\n",
    "\n",
    "`manual_data_entry`\n",
    "\n",
    "and click between (or have the pages open side by side) this notebook and the stock to manually enter the stock's value over time (the website updates every 5 seconds).\n",
    "\n",
    "**Note**: There may be multiple ways to get this function to work, but to receive full points, your function **must** have the five components listed above."
   ]
  },
  {
   "cell_type": "code",
   "execution_count": 30,
   "metadata": {
    "id": "le_snhZzWGXD",
    "outputId": "68a7b618-9846-433f-ab45-872f7ad02d76"
   },
   "outputs": [
    {
     "name": "stdout",
     "output_type": "stream",
     "text": [
      "Enter a value.\n",
      "10\n",
      "Enter a value.\n",
      "3\n",
      "Enter a value.\n",
      "2\n",
      "Enter a value.\n",
      "1\n",
      "['10', '3', '2', '1']\n"
     ]
    }
   ],
   "source": [
    "def my_stock():\n",
    "    values = []\n",
    "\n",
    "    while(len(values) < 10):\n",
    "        print(\"Enter a value.\")\n",
    "        given_value = input()\n",
    "        \n",
    "        if (given_value.isnumeric()):\n",
    "            if (len(values) >= 3):\n",
    "                if (given_value < values[len(values) - 1] and values[len(values) - 1] < values[len(values) - 2]):\n",
    "                    values.append(given_value)\n",
    "                    break\n",
    "            values.append(given_value)\n",
    "        else:\n",
    "            print(\"Invalid input.\")\n",
    "    return values\n",
    "\n",
    "manual_data_entry = my_stock()\n",
    "\n",
    "print(manual_data_entry)"
   ]
  },
  {
   "cell_type": "markdown",
   "metadata": {
    "id": "KDCBaNp6WGXE"
   },
   "source": [
    "## Part 2.2: Thinking (5 pts)\n",
    "\n",
    "In a markdown (text) cell, discuss at least **two** drawbacks to using the function you wrote in Part 2.1 to collect the data the way we did. Make sure you **discuss** the drawbacks, instead of simply listing them. What did we do that was sub-optimal and how could we improve it?"
   ]
  },
  {
   "cell_type": "markdown",
   "metadata": {
    "id": "rxJ7rdSCWGXE"
   },
   "source": [
    "- The first drawback would be that the values are not really real time if we enter it manually. When we enter the values, the actual value of the stock changes to something else which makes our values outdated. To improve upon this, instead of using input() we need to communicate with the website's API to pull the data in real-time.\n",
    "\n",
    "- The second drawback is that the program stops once three consecutive decreasing values are present. This can make the program stop very frequently. Instead, we should change this condition (in the if statement) to something that can analyse trends or increase the threshold to a greater value to avoid the program stopping at momentary price falls."
   ]
  },
  {
   "cell_type": "markdown",
   "metadata": {
    "id": "OnYkLSv8WGXF"
   },
   "source": [
    "# Part 3: Numpy\n",
    "## Part 3.1: Creating Arrays (10 points)\n",
    "\n",
    "Create the following two arrays using the NumPy library. Call the first array `array_a` and the second array `array_b` (make sure you keep the `import` statement below):\n",
    "\n",
    "$$\\mathbf{array_a} = \\begin{bmatrix}3 & 8 & -2 & 3\\\\\n",
    ".5 & -1 & 6 & 4\\\\\n",
    "-5 & 7 & -42 & 2\n",
    "\\end{bmatrix}$$\n",
    "\n",
    "$$\\mathbf{array_b} = \\begin{bmatrix}42 & 38 & 34\\\\\n",
    "30 & 26 & 22\\\\\n",
    "18 & 14 & 10\\\\\n",
    "6 & 2 & -2\\\\\n",
    "-6 & -10 & -14\n",
    "\\end{bmatrix}$$"
   ]
  },
  {
   "cell_type": "code",
   "execution_count": null,
   "metadata": {
    "id": "ZxWizP_wWGXF"
   },
   "outputs": [],
   "source": [
    "# make sure to import numpy library\n",
    "import numpy as np"
   ]
  },
  {
   "cell_type": "code",
   "execution_count": null,
   "metadata": {
    "id": "Y-XylBnsWGXF"
   },
   "outputs": [],
   "source": [
    "array_a = np.array([[3,8,-2,3], [0.5, -1,6,4], [-5,7,-42,2]])\n",
    "\n",
    "array_b = np.array([[42,38,34], [30,26,22], [18,14,10], [6,2,-2], [-6,-10,-14]])"
   ]
  },
  {
   "cell_type": "code",
   "execution_count": null,
   "metadata": {
    "id": "fnPVn54jWGXF",
    "outputId": "693c6610-7b1f-4c57-935e-85478f02c4c9"
   },
   "outputs": [
    {
     "data": {
      "text/plain": [
       "array([[  3. ,   8. ,  -2. ,   3. ],\n",
       "       [  0.5,  -1. ,   6. ,   4. ],\n",
       "       [ -5. ,   7. , -42. ,   2. ]])"
      ]
     },
     "execution_count": 36,
     "metadata": {},
     "output_type": "execute_result"
    }
   ],
   "source": [
    "# uncomment below to print array_a\n",
    "array_a"
   ]
  },
  {
   "cell_type": "code",
   "execution_count": null,
   "metadata": {
    "id": "CcMSXOjIWGXF",
    "outputId": "f15faffc-6cf3-4b52-bd0c-c9fb947223ae"
   },
   "outputs": [
    {
     "data": {
      "text/plain": [
       "array([[ 42,  38,  34],\n",
       "       [ 30,  26,  22],\n",
       "       [ 18,  14,  10],\n",
       "       [  6,   2,  -2],\n",
       "       [ -6, -10, -14]])"
      ]
     },
     "execution_count": 37,
     "metadata": {},
     "output_type": "execute_result"
    }
   ],
   "source": [
    "# uncomment below to print array_b\n",
    "array_b"
   ]
  },
  {
   "cell_type": "markdown",
   "metadata": {
    "id": "u5aBVGjoWGXF"
   },
   "source": [
    "## Part 3.2: Exploring Arrays (15 points)\n",
    "\n",
    "1. Give the shape, size, ndim, and nbytes for each of the two arrays.\n",
    "1. Take the transpose of both arrays. Call these `t_array_a` and `t_array_b`.\n",
    "1. Try to add `array_a` and `t_array_b`, then remove the last column of `t_array_b` and try to add them again. In a markdown cell, explain what happened."
   ]
  },
  {
   "cell_type": "code",
   "execution_count": null,
   "metadata": {
    "id": "gvP-vFZ7WGXF",
    "outputId": "7b3a6cb8-c386-4a2f-cfa2-291218d47477"
   },
   "outputs": [
    {
     "name": "stdout",
     "output_type": "stream",
     "text": [
      "For Array A, \n",
      " Shape: (3, 4) \n",
      " Size: 12 \n",
      " nDim: 2 \n",
      " nBytes 96 \n",
      "\n",
      "\n",
      "\n",
      "For Array B, \n",
      " Shape: (5, 3) \n",
      " Size: 15 \n",
      " nDim: 2 \n",
      " nBytes 60\n"
     ]
    }
   ],
   "source": [
    "a_size = array_a.size\n",
    "a_ndim = array_a.ndim\n",
    "a_shape = array_a.shape\n",
    "a_nbytes = array_a.nbytes\n",
    "\n",
    "print(f\"For Array A, \\n Shape: {a_shape} \\n Size: {a_size} \\n nDim: {a_ndim} \\n nBytes {a_nbytes} \\n\\n\\n\")\n",
    "\n",
    "# Transpose for array a\n",
    "t_array_a = array_a.T\n",
    "\n",
    "b_size = array_b.size\n",
    "b_ndim = array_b.ndim\n",
    "b_shape = array_b.shape\n",
    "b_nbytes = array_b.nbytes\n",
    "print(f\"For Array B, \\n Shape: {b_shape} \\n Size: {b_size} \\n nDim: {b_ndim} \\n nBytes {b_nbytes}\")\n",
    "\n",
    "# Transpose for array b\n",
    "t_array_b = array_b.T"
   ]
  },
  {
   "cell_type": "code",
   "execution_count": null,
   "metadata": {
    "id": "mAg1CwQMWGXF",
    "outputId": "5d32c4b3-ffc3-4746-8a90-cf0a48b2df31"
   },
   "outputs": [
    {
     "name": "stdout",
     "output_type": "stream",
     "text": [
      "[[ 45.   38.   16.    9. ]\n",
      " [ 38.5  25.   20.    6. ]\n",
      " [ 29.   29.  -32.    0. ]]\n"
     ]
    }
   ],
   "source": [
    "print(array_a + t_array_b[:, :-1])"
   ]
  },
  {
   "cell_type": "markdown",
   "metadata": {
    "id": "ilAN5UZSWGXF"
   },
   "source": [
    "When trying to add array_a and t_array_b, a broadcast error occurs due to the different in the array lengths. By deleting a column in t_array_b, the two arrays are of the same length with allows them to be added together with no errors."
   ]
  },
  {
   "cell_type": "markdown",
   "metadata": {
    "id": "zJDpt2WAWGXF"
   },
   "source": [
    "# Part 4: Pandas Pokémon\n",
    "## Part 4.1: Reading in Data (5 points)\n",
    "\n",
    "On Canvas is the `pokedata.csv` file. Read this data set in, using the `Pokedex` as the index column, and print the first few rows of the data. Make sure you keep the `import` statement below!"
   ]
  },
  {
   "cell_type": "code",
   "execution_count": 2,
   "metadata": {
    "id": "eCd36-OkWGXF"
   },
   "outputs": [],
   "source": [
    "# make sure to import pandas library\n",
    "import pandas as pd"
   ]
  },
  {
   "cell_type": "code",
   "execution_count": 3,
   "metadata": {
    "id": "Vcs_hu7hWGXG",
    "outputId": "73daa792-6cf4-4ea5-bade-f72ced72c5a2"
   },
   "outputs": [
    {
     "data": {
      "text/plain": [
       "<bound method NDFrame.head of      Pokedex     Pokemon MainType SecondaryType  Height  Weight  Damage  \\\n",
       "0          1   Bulbasaur    Grass        Poison      24    25.2      45   \n",
       "1          2     Ivysaur    Grass        Poison      39    28.7      60   \n",
       "2          3    Venusaur    Grass        Poison      79   220.5      80   \n",
       "3          4  Charmander     Fire           NaN      24    18.7      39   \n",
       "4          5  Charmeleon     Fire           NaN      43    41.9      58   \n",
       "..       ...         ...      ...           ...     ...     ...     ...   \n",
       "146      147     Dratini   Dragon           NaN      71     7.3      41   \n",
       "147      148   Dragonair   Dragon           NaN     157    36.4      61   \n",
       "148      149   Dragonite   Dragon        Flying      87   463.0      91   \n",
       "149      150      Mewtwo  Psychic           NaN      79   269.0     106   \n",
       "150      151         Mew  Psychic           NaN      16     8.8     100   \n",
       "\n",
       "     BaseSpeed  Attack  Defense  \n",
       "0           45      49       49  \n",
       "1           60      62       63  \n",
       "2           80      82       83  \n",
       "3           65      52       43  \n",
       "4           80      64       58  \n",
       "..         ...     ...      ...  \n",
       "146         50      64       45  \n",
       "147         70      84       65  \n",
       "148         80     134       95  \n",
       "149        130     110       90  \n",
       "150        100     100      100  \n",
       "\n",
       "[151 rows x 10 columns]>"
      ]
     },
     "execution_count": 3,
     "metadata": {},
     "output_type": "execute_result"
    }
   ],
   "source": [
    "pokedex = pd.read_csv('https://raw.githubusercontent.com/yashjay1/ds3000/main/pokedata.csv')\n",
    "pokedex.head"
   ]
  },
  {
   "cell_type": "markdown",
   "metadata": {
    "id": "WlSWlQX9WGXG"
   },
   "source": [
    "## Part 4.2: Manipulating Data (20 points)\n",
    "\n",
    "1. Add a new column to the data set that calculates the BMI of the Pokémon. The formula for BMI using Imperial Units (such as these data contain) is = $703 \\times \\frac{Weight}{Height^2}$. Print the first few rows.\n",
    "    - Find out which Pokémon have (a) the highest BMI and (b) the lowest BMI.\n",
    "1. Create a subset of the Pokémon Data that you created in (1) which (a) includes only Pokémon that have `BaseSpeed >= 60` and (b) **excludes** all Pokémon with the Grass `MainType`. Make sure to save this subset as a new data frame and print the first few rows of the data.\n",
    "1. Use the `.describe()` function to produce summary statistics for the **full** Pokémon Data from the data from (1). Create a markdown cell and explain:\n",
    "    - What Series did the `.describe()` function run on? What Series did it not run on? What is the difference, and what does this mean the `.describe()` function is used for?"
   ]
  },
  {
   "cell_type": "code",
   "execution_count": 4,
   "metadata": {
    "id": "mbzg4KzKWGXG",
    "outputId": "e3d44cdc-18a0-480d-d1c8-aad7ea2e8c40"
   },
   "outputs": [
    {
     "name": "stdout",
     "output_type": "stream",
     "text": [
      "Pokemon with the highest BMI is Golem and the Pokemon with the lowest BMI is Haunter\n"
     ]
    }
   ],
   "source": [
    "pokedex[\"BMI\"] = 703 * (pokedex[\"Weight\"] / (pokedex['Height'] ** 2))\n",
    "\n",
    "highest_bmi = pokedex.loc[pokedex['BMI'].idxmax()]\n",
    "lowest_bmi = pokedex.loc[pokedex['BMI'].idxmin()]\n",
    "print(f\"Pokemon with the highest BMI is {highest_bmi['Pokemon']} and the Pokemon with the lowest BMI is {lowest_bmi['Pokemon']}\")\n",
    "\n"
   ]
  },
  {
   "cell_type": "code",
   "execution_count": 19,
   "metadata": {},
   "outputs": [
    {
     "data": {
      "text/plain": [
       "<bound method NDFrame.head of      Pokedex     Pokemon MainType SecondaryType  Height  Weight  Damage  \\\n",
       "3          4  Charmander     Fire           NaN      24    18.7      39   \n",
       "4          5  Charmeleon     Fire           NaN      43    41.9      58   \n",
       "5          6   Charizard     Fire        Flying      67   199.5      78   \n",
       "8          9   Blastoise    Water           NaN      63   188.5      79   \n",
       "11        12  Butterfree      Bug        Flying      43    70.5      60   \n",
       "..       ...         ...      ...           ...     ...     ...     ...   \n",
       "145      146     Moltres     Fire        Flying      79   132.3      90   \n",
       "147      148   Dragonair   Dragon           NaN     157    36.4      61   \n",
       "148      149   Dragonite   Dragon        Flying      87   463.0      91   \n",
       "149      150      Mewtwo  Psychic           NaN      79   269.0     106   \n",
       "150      151         Mew  Psychic           NaN      16     8.8     100   \n",
       "\n",
       "     BaseSpeed  Attack  Defense        BMI  \n",
       "3           65      52       43  22.823090  \n",
       "4           80      64       58  15.930611  \n",
       "5          100      84       78  31.242704  \n",
       "8           78      83      100  33.387629  \n",
       "11          70      45       50  26.804489  \n",
       "..         ...     ...      ...        ...  \n",
       "145         90     100       90  14.902564  \n",
       "147         70      84       65   1.038144  \n",
       "148         80     134       95  43.002907  \n",
       "149        130     110       90  30.300753  \n",
       "150        100     100      100  24.165625  \n",
       "\n",
       "[89 rows x 11 columns]>"
      ]
     },
     "execution_count": 19,
     "metadata": {},
     "output_type": "execute_result"
    }
   ],
   "source": [
    "speedDex = pokedex[(pokedex['BaseSpeed'] >= 60) & (pokedex['MainType'] != 'Grass')]\n",
    "speedDex.head"
   ]
  },
  {
   "cell_type": "code",
   "execution_count": 31,
   "metadata": {},
   "outputs": [
    {
     "data": {
      "text/html": [
       "<div>\n",
       "<style scoped>\n",
       "    .dataframe tbody tr th:only-of-type {\n",
       "        vertical-align: middle;\n",
       "    }\n",
       "\n",
       "    .dataframe tbody tr th {\n",
       "        vertical-align: top;\n",
       "    }\n",
       "\n",
       "    .dataframe thead th {\n",
       "        text-align: right;\n",
       "    }\n",
       "</style>\n",
       "<table border=\"1\" class=\"dataframe\">\n",
       "  <thead>\n",
       "    <tr style=\"text-align: right;\">\n",
       "      <th></th>\n",
       "      <th>Pokedex</th>\n",
       "      <th>Height</th>\n",
       "      <th>Weight</th>\n",
       "      <th>Damage</th>\n",
       "      <th>BaseSpeed</th>\n",
       "      <th>Attack</th>\n",
       "      <th>Defense</th>\n",
       "      <th>BMI</th>\n",
       "    </tr>\n",
       "  </thead>\n",
       "  <tbody>\n",
       "    <tr>\n",
       "      <th>count</th>\n",
       "      <td>151.000000</td>\n",
       "      <td>151.000000</td>\n",
       "      <td>151.000000</td>\n",
       "      <td>151.000000</td>\n",
       "      <td>151.000000</td>\n",
       "      <td>151.000000</td>\n",
       "      <td>151.000000</td>\n",
       "      <td>151.000000</td>\n",
       "    </tr>\n",
       "    <tr>\n",
       "      <th>mean</th>\n",
       "      <td>76.000000</td>\n",
       "      <td>46.894040</td>\n",
       "      <td>100.766954</td>\n",
       "      <td>64.218543</td>\n",
       "      <td>68.933775</td>\n",
       "      <td>72.913907</td>\n",
       "      <td>68.225166</td>\n",
       "      <td>32.764506</td>\n",
       "    </tr>\n",
       "    <tr>\n",
       "      <th>std</th>\n",
       "      <td>43.734045</td>\n",
       "      <td>37.880717</td>\n",
       "      <td>131.299070</td>\n",
       "      <td>28.585519</td>\n",
       "      <td>26.746880</td>\n",
       "      <td>26.755421</td>\n",
       "      <td>26.916704</td>\n",
       "      <td>23.189403</td>\n",
       "    </tr>\n",
       "    <tr>\n",
       "      <th>min</th>\n",
       "      <td>1.000000</td>\n",
       "      <td>8.000000</td>\n",
       "      <td>0.200000</td>\n",
       "      <td>10.000000</td>\n",
       "      <td>15.000000</td>\n",
       "      <td>5.000000</td>\n",
       "      <td>5.000000</td>\n",
       "      <td>0.035425</td>\n",
       "    </tr>\n",
       "    <tr>\n",
       "      <th>25%</th>\n",
       "      <td>38.500000</td>\n",
       "      <td>28.000000</td>\n",
       "      <td>21.800000</td>\n",
       "      <td>45.000000</td>\n",
       "      <td>46.500000</td>\n",
       "      <td>51.000000</td>\n",
       "      <td>50.000000</td>\n",
       "      <td>20.856877</td>\n",
       "    </tr>\n",
       "    <tr>\n",
       "      <th>50%</th>\n",
       "      <td>76.000000</td>\n",
       "      <td>39.000000</td>\n",
       "      <td>66.100000</td>\n",
       "      <td>60.000000</td>\n",
       "      <td>70.000000</td>\n",
       "      <td>70.000000</td>\n",
       "      <td>65.000000</td>\n",
       "      <td>30.042735</td>\n",
       "    </tr>\n",
       "    <tr>\n",
       "      <th>75%</th>\n",
       "      <td>113.500000</td>\n",
       "      <td>59.000000</td>\n",
       "      <td>124.250000</td>\n",
       "      <td>80.000000</td>\n",
       "      <td>90.000000</td>\n",
       "      <td>92.000000</td>\n",
       "      <td>84.000000</td>\n",
       "      <td>38.245600</td>\n",
       "    </tr>\n",
       "    <tr>\n",
       "      <th>max</th>\n",
       "      <td>151.000000</td>\n",
       "      <td>346.000000</td>\n",
       "      <td>1014.100000</td>\n",
       "      <td>250.000000</td>\n",
       "      <td>140.000000</td>\n",
       "      <td>134.000000</td>\n",
       "      <td>180.000000</td>\n",
       "      <td>153.707174</td>\n",
       "    </tr>\n",
       "  </tbody>\n",
       "</table>\n",
       "</div>"
      ],
      "text/plain": [
       "          Pokedex      Height       Weight      Damage   BaseSpeed  \\\n",
       "count  151.000000  151.000000   151.000000  151.000000  151.000000   \n",
       "mean    76.000000   46.894040   100.766954   64.218543   68.933775   \n",
       "std     43.734045   37.880717   131.299070   28.585519   26.746880   \n",
       "min      1.000000    8.000000     0.200000   10.000000   15.000000   \n",
       "25%     38.500000   28.000000    21.800000   45.000000   46.500000   \n",
       "50%     76.000000   39.000000    66.100000   60.000000   70.000000   \n",
       "75%    113.500000   59.000000   124.250000   80.000000   90.000000   \n",
       "max    151.000000  346.000000  1014.100000  250.000000  140.000000   \n",
       "\n",
       "           Attack     Defense         BMI  \n",
       "count  151.000000  151.000000  151.000000  \n",
       "mean    72.913907   68.225166   32.764506  \n",
       "std     26.755421   26.916704   23.189403  \n",
       "min      5.000000    5.000000    0.035425  \n",
       "25%     51.000000   50.000000   20.856877  \n",
       "50%     70.000000   65.000000   30.042735  \n",
       "75%     92.000000   84.000000   38.245600  \n",
       "max    134.000000  180.000000  153.707174  "
      ]
     },
     "execution_count": 31,
     "metadata": {},
     "output_type": "execute_result"
    }
   ],
   "source": [
    "pokedex.describe()"
   ]
  },
  {
   "cell_type": "markdown",
   "metadata": {
    "id": "tZdMQnvKWGXG"
   },
   "source": [
    "- The .describe function ran on the Series 'Pokedex', 'Height', 'Weight', 'Damage', 'BaseSpeed', 'Attack', 'Defense', 'BMI'. \n",
    "- The function did not run on the Series 'Pokemon', 'MainType', \"SecondaryType'. \n",
    "- The difference is that the Series the function ran on had the data type of integers and floating point numbers, while the Series that it did not run on had Strings.\n",
    "- This means that .descibe is used for displaying the statistics of numerical data in the dataframe."
   ]
  },
  {
   "cell_type": "code",
   "execution_count": null,
   "metadata": {},
   "outputs": [],
   "source": []
  }
 ],
 "metadata": {
  "colab": {
   "provenance": []
  },
  "kernelspec": {
   "display_name": "Python 3 (ipykernel)",
   "language": "python",
   "name": "python3"
  },
  "language_info": {
   "codemirror_mode": {
    "name": "ipython",
    "version": 3
   },
   "file_extension": ".py",
   "mimetype": "text/x-python",
   "name": "python",
   "nbconvert_exporter": "python",
   "pygments_lexer": "ipython3",
   "version": "3.11.4"
  }
 },
 "nbformat": 4,
 "nbformat_minor": 1
}
